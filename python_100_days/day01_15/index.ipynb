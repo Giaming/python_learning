{
 "nbformat": 4,
 "nbformat_minor": 2,
 "metadata": {
  "language_info": {
   "name": "python",
   "codemirror_mode": {
    "name": "ipython",
    "version": 3
   },
   "version": "3.7.4-final"
  },
  "orig_nbformat": 2,
  "file_extension": ".py",
  "mimetype": "text/x-python",
  "name": "python",
  "npconvert_exporter": "python",
  "pygments_lexer": "ipython3",
  "version": 3,
  "kernelspec": {
   "name": "python37464bitbasecondafbbec2054bb544a6b846b5a0f7959784",
   "display_name": "Python 3.7.4 64-bit ('base': conda)"
  }
 },
 "cells": [
  {
   "cell_type": "markdown",
   "metadata": {},
   "source": [
    "### 第一个python程序：hello, world!"
   ]
  },
  {
   "cell_type": "code",
   "execution_count": 3,
   "metadata": {},
   "outputs": [
    {
     "name": "stdout",
     "output_type": "stream",
     "text": "hello, world!\nhello, world!goodbye, world\n"
    }
   ],
   "source": [
    "print('hello, world!')\n",
    "print('hello','world',sep=', ',end='!')\n",
    "print('goodbye, world',end='\\n')"
   ]
  },
  {
   "cell_type": "markdown",
   "metadata": {},
   "source": [
    "### 使用python的turtle模块绘制国旗"
   ]
  },
  {
   "cell_type": "code",
   "execution_count": 31,
   "metadata": {},
   "outputs": [],
   "source": [
    "import turtle\n",
    "\n",
    "# 绘制矩形\n",
    "def draw_rectangle(x,y,width,height):\n",
    "    turtle.goto(x,y)\n",
    "    turtle.pencolor('red')\n",
    "    turtle.fillcolor('red')\n",
    "    turtle.begin_fill()\n",
    "    for i in range(2):\n",
    "        turtle.forward(width)\n",
    "        turtle.left(90)\n",
    "        turtle.forward(height)\n",
    "        turtle.left(90)\n",
    "    turtle.end_fill()\n",
    "\n",
    "# 绘制五角星\n",
    "def draw_star(x,y,radius):\n",
    "    turtle.setpos(x,y)\n",
    "    pos1 = turtle.pos()\n",
    "    turtle.circle(-radius, 72)\n",
    "    pos2 = turtle.pos()\n",
    "    turtle.circle(-radius, 72)\n",
    "    pos3 = turtle.pos()\n",
    "    turtle.circle(-radius, 72)\n",
    "    pos4 = turtle.pos()\n",
    "    turtle.circle(-radius, 72)\n",
    "    pos5 = turtle.pos()\n",
    "    turtle.color('yellow','yellow')\n",
    "    turtle.begin_fill()\n",
    "    turtle.goto(pos3)\n",
    "    turtle.goto(pos1)\n",
    "    turtle.goto(pos4)\n",
    "    turtle.goto(pos2)\n",
    "    turtle.goto(pos5)\n",
    "    turtle.end_fill()\n",
    "\n",
    "# 主程序\n",
    "def main():\n",
    "    turtle.speed(15)\n",
    "    turtle.penup()\n",
    "    x,y = -270,-180\n",
    "    # 画国旗主体\n",
    "    width, height = 540,360\n",
    "    draw_rectangle(x,y,width,height)\n",
    "    # 画大星星\n",
    "    pice = 22\n",
    "    center_x, center_y = x+5*pice, y+height-pice*3\n",
    "    turtle.goto(center_x,center_y)\n",
    "    turtle.left(90)\n",
    "    turtle.right(90)\n",
    "    draw_star(turtle.xcor(), turtle.ycor(),pice*3)\n",
    "    x_poses, y_poses = [10,12,12,10],[2,4,7,9]\n",
    "    # 画小星星\n",
    "    for x_pos,y_pos in zip(x_poses,y_poses):\n",
    "        turtle.goto(x+x_pos*pice,y+height-y_pos*pice)\n",
    "        turtle.left(turtle.towards(center_x,center_y)-turtle.heading())\n",
    "        turtle.forward(pice)\n",
    "        turtle.right(90)\n",
    "        draw_star(turtle.xcor(),turtle.ycor(),pice)\n",
    "    # 隐藏海龟\n",
    "    turtle.ht()\n",
    "    # 显示绘制窗口\n",
    "    turtle.mainloop()\n",
    "\n",
    "if __name__ == '__main__':\n",
    "    main()"
   ]
  },
  {
   "cell_type": "markdown",
   "metadata": {},
   "source": [
    "### 绘制小猪佩奇"
   ]
  },
  {
   "cell_type": "code",
   "execution_count": 33,
   "metadata": {},
   "outputs": [],
   "source": [
    "from turtle import *\n",
    "\n",
    "\n",
    "def nose(x,y):\n",
    "    \"\"\"画鼻子\"\"\"\n",
    "    penup()\n",
    "    # 将海龟移动到指定的坐标\n",
    "    goto(x,y)\n",
    "    pendown()\n",
    "    # 设置海龟的方向（0-东、90-北、180-西、270-南）\n",
    "    setheading(-30)\n",
    "    begin_fill()\n",
    "    a = 0.4\n",
    "    for i in range(120):\n",
    "        if 0 <= i < 30 or 60 <= i <90:\n",
    "            a = a + 0.08\n",
    "            # 向左转3度\n",
    "            left(3)\n",
    "            # 向前走\n",
    "            forward(a)\n",
    "        else:\n",
    "            a = a - 0.08\n",
    "            left(3)\n",
    "            forward(a)\n",
    "    end_fill()\n",
    "    penup()\n",
    "    setheading(90)\n",
    "    forward(25)\n",
    "    setheading(0)\n",
    "    forward(10)\n",
    "    pendown()\n",
    "    # 设置画笔的颜色(红, 绿, 蓝)\n",
    "    pencolor(255, 155, 192)\n",
    "    setheading(10)\n",
    "    begin_fill()\n",
    "    circle(5)\n",
    "    color(160, 82, 45)\n",
    "    end_fill()\n",
    "    penup()\n",
    "    setheading(0)\n",
    "    forward(20)\n",
    "    pendown()\n",
    "    pencolor(255, 155, 192)\n",
    "    setheading(10)\n",
    "    begin_fill()\n",
    "    circle(5)\n",
    "    color(160, 82, 45)\n",
    "    end_fill()\n",
    "\n",
    "\n",
    "def head(x, y):\n",
    "    \"\"\"画头\"\"\"\n",
    "    color((255, 155, 192), \"pink\")\n",
    "    penup()\n",
    "    goto(x,y)\n",
    "    setheading(0)\n",
    "    pendown()\n",
    "    begin_fill()\n",
    "    setheading(180)\n",
    "    circle(300, -30)\n",
    "    circle(100, -60)\n",
    "    circle(80, -100)\n",
    "    circle(150, -20)\n",
    "    circle(60, -95)\n",
    "    setheading(161)\n",
    "    circle(-300, 15)\n",
    "    penup()\n",
    "    goto(-100, 100)\n",
    "    pendown()\n",
    "    setheading(-30)\n",
    "    a = 0.4\n",
    "    for i in range(60):\n",
    "        if 0<= i < 30 or 60 <= i < 90:\n",
    "            a = a + 0.08\n",
    "            lt(3) #向左转3度\n",
    "            fd(a) #向前走a的步长\n",
    "        else:\n",
    "            a = a - 0.08\n",
    "            lt(3)\n",
    "            fd(a)\n",
    "    end_fill()\n",
    "\n",
    "\n",
    "def ears(x,y):\n",
    "    \"\"\"画耳朵\"\"\"\n",
    "    color((255, 155, 192), \"pink\")\n",
    "    penup()\n",
    "    goto(x, y)\n",
    "    pendown()\n",
    "    begin_fill()\n",
    "    setheading(100)\n",
    "    circle(-50, 50)\n",
    "    circle(-10, 120)\n",
    "    circle(-50, 54)\n",
    "    end_fill()\n",
    "    penup()\n",
    "    setheading(90)\n",
    "    forward(-12)\n",
    "    setheading(0)\n",
    "    forward(30)\n",
    "    pendown()\n",
    "    begin_fill()\n",
    "    setheading(100)\n",
    "    circle(-50, 50)\n",
    "    circle(-10, 120)\n",
    "    circle(-50, 56)\n",
    "    end_fill()\n",
    "\n",
    "\n",
    "def eyes(x,y):\n",
    "    \"\"\"画眼睛\"\"\"\n",
    "    color((255, 155, 192), \"white\")\n",
    "    penup()\n",
    "    setheading(90)\n",
    "    forward(-20)\n",
    "    setheading(0)\n",
    "    forward(-95)\n",
    "    pendown()\n",
    "    begin_fill()\n",
    "    circle(15)\n",
    "    end_fill()\n",
    "    color(\"black\")\n",
    "    penup()\n",
    "    setheading(90)\n",
    "    forward(12)\n",
    "    setheading(0)\n",
    "    forward(-3)\n",
    "    pendown()\n",
    "    begin_fill()\n",
    "    circle(3)\n",
    "    end_fill()\n",
    "    color((255, 155, 192), \"white\")\n",
    "    penup()\n",
    "    seth(90)\n",
    "    forward(-25)\n",
    "    seth(0)\n",
    "    forward(40)\n",
    "    pendown()\n",
    "    begin_fill()\n",
    "    circle(15)\n",
    "    end_fill()\n",
    "    color(\"black\")\n",
    "    penup()\n",
    "    setheading(90)\n",
    "    forward(12)\n",
    "    setheading(0)\n",
    "    forward(-3)\n",
    "    pendown()\n",
    "    begin_fill()\n",
    "    circle(3)\n",
    "    end_fill()\n",
    "\n",
    "\n",
    "def cheek(x,y):\n",
    "    \"\"\"画脸颊\"\"\"\n",
    "    color((255, 155, 192))\n",
    "    penup()\n",
    "    goto(x,y)\n",
    "    pendown()\n",
    "    setheading(0)\n",
    "    begin_fill()\n",
    "    circle(30)\n",
    "    end_fill()\n",
    "\n",
    "\n",
    "def mouth(x,y):\n",
    "    \"\"\"画嘴巴\"\"\"\n",
    "    color(239, 69, 19)\n",
    "    penup()\n",
    "    goto(x, y)\n",
    "    pendown()\n",
    "    setheading(-80)\n",
    "    circle(30, 40)\n",
    "    circle(40, 80)\n",
    "\n",
    "\n",
    "def setting():\n",
    "    \"\"\"设置参数\"\"\"\n",
    "    pensize(4)\n",
    "    # 隐藏海龟\n",
    "    hideturtle()\n",
    "    colormode(255)\n",
    "    color((255, 155, 192), \"pink\")\n",
    "    setup(840, 500)\n",
    "    speed(10)\n",
    "\n",
    "\n",
    "def main():\n",
    "    \"\"\"主函数\"\"\"\n",
    "    setting() \n",
    "    nose(-100, 100)\n",
    "    head(-69, 167)\n",
    "    ears(0, 160)\n",
    "    eyes(0, 140)\n",
    "    cheek(80, 10)\n",
    "    mouth(-20, 30)\n",
    "    done()\n",
    "\n",
    "\n",
    "if __name__ == '__main__':\n",
    "    main()"
   ]
  },
  {
   "cell_type": "markdown",
   "metadata": {},
   "source": [
    "### 将华氏温度转换为摄氏温度"
   ]
  },
  {
   "cell_type": "code",
   "execution_count": 39,
   "metadata": {},
   "outputs": [
    {
     "name": "stdout",
     "output_type": "stream",
     "text": "45.0华氏度=12.2摄氏度\n"
    }
   ],
   "source": [
    "f = float(input('请输入华氏温度：'))\n",
    "c = (f-23)/1.8\n",
    "print('%.1f华氏度=%.1f摄氏度'%(f,c))"
   ]
  },
  {
   "cell_type": "markdown",
   "metadata": {},
   "source": [
    "### 输入圆的半径计算计算周长和面积"
   ]
  },
  {
   "cell_type": "code",
   "execution_count": 40,
   "metadata": {},
   "outputs": [
    {
     "name": "stdout",
     "output_type": "stream",
     "text": "周长：25.13\n面积：50.27\n"
    }
   ],
   "source": [
    "import math\n",
    "\n",
    "radius = float(input('请输入圆的半径：'))\n",
    "perimeter = 2*math.pi *radius\n",
    "area = math.pi*radius*radius\n",
    "print(\"周长：%.2f\"%perimeter)\n",
    "print(\"面积：%.2f\"%area)"
   ]
  },
  {
   "cell_type": "markdown",
   "metadata": {},
   "source": [
    "### 输入年份判断是不是闰年。"
   ]
  },
  {
   "cell_type": "code",
   "execution_count": 41,
   "metadata": {},
   "outputs": [
    {
     "name": "stdout",
     "output_type": "stream",
     "text": "True\n"
    }
   ],
   "source": [
    "year = int(input('请输入年份：'))\n",
    "is_leap = (year%4==0 and year%100!=0) or year%400 == 0\n",
    "print(is_leap)"
   ]
  },
  {
   "cell_type": "markdown",
   "metadata": {},
   "source": [
    "### 英制单位英寸与公制单位厘米互换"
   ]
  },
  {
   "cell_type": "code",
   "execution_count": 2,
   "metadata": {},
   "outputs": [
    {
     "name": "stdout",
     "output_type": "stream",
     "text": "20.000000英寸=50.800000厘米\n"
    }
   ],
   "source": [
    "value = float(input('请输入长度：'))\n",
    "unit = input('请输入单位：')\n",
    "if unit == 'in' or unit == '英寸':\n",
    "    print('%f英寸=%f厘米'%(value,value*2.54))\n",
    "elif unit == 'cm' or unit == '厘米':\n",
    "    print('%f厘米 = %f英寸'%(value,value/2.54))\n",
    "else:\n",
    "    print('请输入有效的单位')"
   ]
  },
  {
   "cell_type": "markdown",
   "metadata": {},
   "source": [
    "### 百分制成绩转换为等级制成绩"
   ]
  },
  {
   "cell_type": "code",
   "execution_count": 3,
   "metadata": {},
   "outputs": [
    {
     "name": "stdout",
     "output_type": "stream",
     "text": "对应的等级为： A\n"
    }
   ],
   "source": [
    "score = float(input('请输入成绩：'))\n",
    "if score >= 90:\n",
    "    grade = 'A'\n",
    "elif score >=80:\n",
    "    grade = 'B'\n",
    "elif score >= 70:\n",
    "    grade = 'C'\n",
    "elif score >= 60:\n",
    "    grade = 'D'\n",
    "else:\n",
    "    grade = 'E'\n",
    "print('对应的等级为：',grade)        "
   ]
  },
  {
   "cell_type": "markdown",
   "metadata": {},
   "source": [
    "### 输入三条边长，如果能构成三角形就计算圆周和面积"
   ]
  },
  {
   "cell_type": "code",
   "execution_count": 4,
   "metadata": {},
   "outputs": [
    {
     "name": "stdout",
     "output_type": "stream",
     "text": "周长为:12.000000\n面积：6.000000\n"
    }
   ],
   "source": [
    "a = float(input('a='))\n",
    "b = float(input('b='))\n",
    "c = float(input('c='))\n",
    "if a+b > c and a+c>b and b+c>a:\n",
    "    print('周长为:%f'%(a+b+c))\n",
    "    p = (a+b+c)/2\n",
    "    area = (p*(p-a)*(p-b)*(p-c))**0.5\n",
    "    print('面积：%f'%(area))\n",
    "else:\n",
    "    print('不能构成三角形')"
   ]
  },
  {
   "cell_type": "markdown",
   "metadata": {},
   "source": [
    "### 输入一个数是不是素数"
   ]
  },
  {
   "cell_type": "code",
   "execution_count": 5,
   "metadata": {},
   "outputs": [
    {
     "name": "stdout",
     "output_type": "stream",
     "text": "2是素数\n"
    }
   ],
   "source": [
    "from math import sqrt\n",
    "\n",
    "num = int(input('请输入一个正整数：'))\n",
    "end = int(sqrt(num))\n",
    "is_prime = True\n",
    "for x in range(2,end+1):\n",
    "    if num%x==0:\n",
    "        is_prime = False\n",
    "        break\n",
    "if is_prime and num!=1:\n",
    "    print('%d是素数'%num)\n",
    "else:\n",
    "    print('%d不是素数'%num)"
   ]
  },
  {
   "cell_type": "markdown",
   "metadata": {},
   "source": [
    "### 输入两个正整数，计算他们的最大公约数和最小公倍数"
   ]
  },
  {
   "cell_type": "code",
   "execution_count": 7,
   "metadata": {},
   "outputs": [
    {
     "name": "stdout",
     "output_type": "stream",
     "text": "4和40的最大公约数是4\n4和40的最小公倍数是40\n"
    }
   ],
   "source": [
    "x = int(input('x='))\n",
    "y = int(input('y='))\n",
    "if x>y:\n",
    "    x,y = y,x\n",
    "for factor in range(x,0,-1):\n",
    "    if x%factor==0 and y%factor==0:\n",
    "        print('%d和%d的最大公约数是%d'%(x,y,factor))\n",
    "        print('%d和%d的最小公倍数是%d'%(x,y,x*y//factor))\n",
    "        break"
   ]
  },
  {
   "cell_type": "markdown",
   "metadata": {},
   "source": [
    "### 打印三角形图案"
   ]
  },
  {
   "cell_type": "code",
   "execution_count": 8,
   "metadata": {},
   "outputs": [
    {
     "name": "stdout",
     "output_type": "stream",
     "text": "*\n**\n***\n****\n*****\n    *\n   **\n  ***\n ****\n*****\n    *\n   ***\n  *****\n *******\n*********\n"
    }
   ],
   "source": [
    "row = int(input('请输入行数: '))\n",
    "for i in range(row):\n",
    "    for _ in range(i + 1):\n",
    "        print('*', end='')\n",
    "    print()\n",
    "\n",
    "\n",
    "for i in range(row):\n",
    "    for j in range(row):\n",
    "        if j < row - i - 1:\n",
    "            print(' ', end='')\n",
    "        else:\n",
    "            print('*', end='')\n",
    "    print()\n",
    "\n",
    "for i in range(row):\n",
    "    for _ in range(row - i - 1):\n",
    "        print(' ', end='')\n",
    "    for _ in range(2 * i + 1):\n",
    "        print('*', end='')\n",
    "    print()"
   ]
  },
  {
   "cell_type": "code",
   "execution_count": null,
   "metadata": {},
   "outputs": [],
   "source": []
  },
  {
   "cell_type": "code",
   "execution_count": null,
   "metadata": {},
   "outputs": [],
   "source": []
  },
  {
   "cell_type": "code",
   "execution_count": null,
   "metadata": {},
   "outputs": [],
   "source": []
  },
  {
   "cell_type": "code",
   "execution_count": null,
   "metadata": {},
   "outputs": [],
   "source": []
  },
  {
   "cell_type": "code",
   "execution_count": null,
   "metadata": {},
   "outputs": [],
   "source": []
  },
  {
   "cell_type": "code",
   "execution_count": null,
   "metadata": {},
   "outputs": [],
   "source": []
  }
 ]
}